{
  "nbformat": 4,
  "nbformat_minor": 0,
  "metadata": {
    "colab": {
      "name": "ForensicNet_CASIA.ipynb",
      "provenance": [],
      "collapsed_sections": [],
      "machine_shape": "hm"
    },
    "kernelspec": {
      "name": "python3",
      "display_name": "Python 3"
    },
    "language_info": {
      "name": "python"
    },
    "accelerator": "GPU"
  },
  "cells": [
    {
      "cell_type": "code",
      "execution_count": 1,
      "metadata": {
        "colab": {
          "base_uri": "https://localhost:8080/"
        },
        "id": "6mmJP07D4Nor",
        "outputId": "3722b2f9-31eb-4414-faa3-3d046aa86c99"
      },
      "outputs": [
        {
          "output_type": "stream",
          "name": "stdout",
          "text": [
            "Requirement already satisfied: tensorflow-addons in /usr/local/lib/python3.7/dist-packages (0.16.1)\n",
            "Requirement already satisfied: typeguard>=2.7 in /usr/local/lib/python3.7/dist-packages (from tensorflow-addons) (2.7.1)\n"
          ]
        }
      ],
      "source": [
        "!pip install tensorflow-addons"
      ]
    },
    {
      "cell_type": "code",
      "source": [
        "import os\n",
        "from tensorflow.keras.layers import Input, Dense, Flatten, Conv2D, MaxPooling2D, BatchNormalization, Dropout, Reshape, Concatenate, LeakyReLU\n",
        "from tensorflow.keras.models import Model\n",
        "#import necessary libraries\n",
        "import tensorflow as tf\n",
        "from tensorflow import keras\n",
        "from tensorflow.keras import layers, utils\n",
        "import tensorflow_addons as tfa\n",
        "\n",
        "import matplotlib.pyplot as plt\n",
        "%matplotlib inline\n",
        "\n",
        "from sklearn.model_selection import train_test_split\n",
        "from sklearn.metrics import confusion_matrix\n",
        "from keras.utils.np_utils import to_categorical\n",
        "from keras.models import Sequential\n",
        "from keras.layers import Dense, Flatten, Conv2D, MaxPool2D, Dropout\n",
        "from tensorflow.keras.optimizers import Adam\n",
        "from keras.preprocessing.image import ImageDataGenerator\n",
        "from keras.callbacks import EarlyStopping\n",
        "\n",
        "import numpy as np \n",
        "import pandas as pd \n",
        "import matplotlib.pyplot as plt2\n",
        "from keras.preprocessing.image import ImageDataGenerator, load_img\n",
        "from tensorflow.keras.optimizers import RMSprop, Adam, SGD\n",
        "from keras import regularizers\n",
        "from keras.callbacks import CSVLogger, ModelCheckpoint, ReduceLROnPlateau, EarlyStopping"
      ],
      "metadata": {
        "id": "cm0sXR2V4aX9"
      },
      "execution_count": 2,
      "outputs": []
    },
    {
      "cell_type": "code",
      "source": [
        "!pip install opendatasets --upgrade --quiet\n",
        "import opendatasets as od\n",
        "dataset_url = \"https://www.kaggle.com/sophatvathana/casia-dataset\"\n",
        "od.download(dataset_url)"
      ],
      "metadata": {
        "colab": {
          "base_uri": "https://localhost:8080/"
        },
        "id": "8DPAfj--4aUt",
        "outputId": "2d224a66-9c05-4746-a70b-618d98347d0e"
      },
      "execution_count": 3,
      "outputs": [
        {
          "output_type": "stream",
          "name": "stdout",
          "text": [
            "Skipping, found downloaded files in \"./casia-dataset\" (use force=True to force download)\n"
          ]
        }
      ]
    },
    {
      "cell_type": "code",
      "source": [
        "from PIL import Image, ImageChops, ImageEnhance\n",
        "import os\n",
        "import itertools"
      ],
      "metadata": {
        "id": "cvDthuM64aSo"
      },
      "execution_count": 4,
      "outputs": []
    },
    {
      "cell_type": "code",
      "source": [
        "def convert_to_ela_image(path, quality):\n",
        "    temp_filename = 'temp_file_name.jpg'\n",
        "    ela_filename = 'temp_ela.png'\n",
        "    \n",
        "    image = Image.open(path).convert('RGB')\n",
        "    image.save(temp_filename, 'JPEG', quality = quality)\n",
        "    temp_image = Image.open(temp_filename)\n",
        "    \n",
        "    ela_image = ImageChops.difference(image, temp_image)\n",
        "    \n",
        "    extrema = ela_image.getextrema()\n",
        "    max_diff = max([ex[1] for ex in extrema])\n",
        "    if max_diff == 0:\n",
        "        max_diff = 1\n",
        "    scale = 255.0 / max_diff\n",
        "    \n",
        "    ela_image = ImageEnhance.Brightness(ela_image).enhance(scale)\n",
        "    \n",
        "    return ela_image"
      ],
      "metadata": {
        "id": "abZxTSQv4aLY"
      },
      "execution_count": 5,
      "outputs": []
    },
    {
      "cell_type": "code",
      "source": [
        "image_size = (224, 224)"
      ],
      "metadata": {
        "id": "vtHm9FKS4aHi"
      },
      "execution_count": 6,
      "outputs": []
    },
    {
      "cell_type": "code",
      "source": [
        "def prepare_image(image_path):\n",
        "    return np.array(convert_to_ela_image(image_path, 90).resize(image_size)).flatten() / 255.0"
      ],
      "metadata": {
        "id": "laGC0IRr4aEh"
      },
      "execution_count": 7,
      "outputs": []
    },
    {
      "cell_type": "code",
      "source": [
        "X = [] # ELA converted images\n",
        "Y = [] # 0 for fake, 1 for real"
      ],
      "metadata": {
        "id": "5HWm1Zlv4aCG"
      },
      "execution_count": 8,
      "outputs": []
    },
    {
      "cell_type": "code",
      "source": [
        "import random\n",
        "path = '/content/casia-dataset/CASIA2/Au/'\n",
        "for dirname, _, filenames in os.walk(path):\n",
        "    for filename in filenames:\n",
        "        if filename.endswith('jpg') or filename.endswith('png'):\n",
        "            full_path = os.path.join(dirname, filename)\n",
        "            X.append(prepare_image(full_path))\n",
        "            Y.append(1)\n",
        "            if len(Y) % 500 == 0:\n",
        "                print(f'Processing {len(Y)} images')\n",
        "\n",
        "random.shuffle(X)\n",
        "X = X[:2100]\n",
        "Y = Y[:2100]\n",
        "print(len(X), len(Y))"
      ],
      "metadata": {
        "colab": {
          "base_uri": "https://localhost:8080/"
        },
        "id": "J72LbMyr4Z_X",
        "outputId": "94809e83-87e8-42ac-ff82-be51a8d6d3af"
      },
      "execution_count": 9,
      "outputs": [
        {
          "output_type": "stream",
          "name": "stdout",
          "text": [
            "Processing 500 images\n",
            "Processing 1000 images\n",
            "Processing 1500 images\n",
            "Processing 2000 images\n",
            "Processing 2500 images\n",
            "Processing 3000 images\n",
            "Processing 3500 images\n",
            "Processing 4000 images\n",
            "Processing 4500 images\n"
          ]
        },
        {
          "output_type": "stream",
          "name": "stderr",
          "text": [
            "/usr/local/lib/python3.7/dist-packages/PIL/TiffImagePlugin.py:770: UserWarning: Possibly corrupt EXIF data.  Expecting to read 8 bytes but only got 2. Skipping tag 41487\n",
            "  \" Skipping tag %s\" % (size, len(data), tag)\n",
            "/usr/local/lib/python3.7/dist-packages/PIL/TiffImagePlugin.py:770: UserWarning: Possibly corrupt EXIF data.  Expecting to read 8 bytes but only got 0. Skipping tag 41988\n",
            "  \" Skipping tag %s\" % (size, len(data), tag)\n"
          ]
        },
        {
          "output_type": "stream",
          "name": "stdout",
          "text": [
            "Processing 5000 images\n",
            "Processing 5500 images\n",
            "Processing 6000 images\n",
            "Processing 6500 images\n",
            "Processing 7000 images\n",
            "2100 2100\n"
          ]
        }
      ]
    },
    {
      "cell_type": "code",
      "source": [
        "path = '/content/casia-dataset/CASIA2/Tp/'\n",
        "for dirname, _, filenames in os.walk(path):\n",
        "    for filename in filenames:\n",
        "        if filename.endswith('jpg') or filename.endswith('png'):\n",
        "            full_path = os.path.join(dirname, filename)\n",
        "            X.append(prepare_image(full_path))\n",
        "            Y.append(0)\n",
        "            if len(Y) % 500 == 0:\n",
        "                print(f'Processing {len(Y)} images')\n",
        "\n",
        "print(len(X), len(Y))"
      ],
      "metadata": {
        "colab": {
          "base_uri": "https://localhost:8080/"
        },
        "id": "8Syd_f_-4Z8q",
        "outputId": "2bf98da3-c632-4e4d-fbf0-d8747b1612be"
      },
      "execution_count": 10,
      "outputs": [
        {
          "output_type": "stream",
          "name": "stdout",
          "text": [
            "Processing 2500 images\n",
            "Processing 3000 images\n",
            "Processing 3500 images\n",
            "Processing 4000 images\n",
            "4164 4164\n"
          ]
        }
      ]
    },
    {
      "cell_type": "code",
      "source": [
        "X = np.array(X)\n",
        "Y = to_categorical(Y, 2)\n",
        "X = X.reshape(-1, 224, 224, 3)"
      ],
      "metadata": {
        "id": "oYzLW0HH4Z6D"
      },
      "execution_count": 11,
      "outputs": []
    },
    {
      "cell_type": "code",
      "source": [
        "X_train, X_val, Y_train, Y_val = train_test_split(X, Y, test_size = 0.2, random_state=5)\n",
        "X = X.reshape(-1,1,1,1)\n",
        "print(len(X_train), len(Y_train))\n",
        "print(len(X_val), len(Y_val))"
      ],
      "metadata": {
        "colab": {
          "base_uri": "https://localhost:8080/"
        },
        "id": "BKD2oMyn4Z3S",
        "outputId": "4c34de4a-22ca-4c10-a81a-18045c78c9ee"
      },
      "execution_count": 12,
      "outputs": [
        {
          "output_type": "stream",
          "name": "stdout",
          "text": [
            "3331 3331\n",
            "833 833\n"
          ]
        }
      ]
    },
    {
      "cell_type": "markdown",
      "source": [
        "**Model Architecture**"
      ],
      "metadata": {
        "id": "1Yhn7waC5dbP"
      }
    },
    {
      "cell_type": "code",
      "source": [
        "def real_block(input, dim, drop_path=0.0):\n",
        "     \n",
        "     #shortcut connection\n",
        "      shortcurt = input \n",
        "      x = layers.Conv2D(filters=dim, kernel_size=7, padding='same', groups=dim)(input)\n",
        "      x = layers.LayerNormalization(epsilon=1e-6)(x)\n",
        "\n",
        "      x = layers.Dense(4 * dim)(x)\n",
        "      x = layers.BatchNormalization()(x)\n",
        "      x = layers.ReLU()(x)\n",
        "      x = layers.Dense(dim)(x)\n",
        "      #Stochastic depth\n",
        "      drop_depth = tfa.layers.StochasticDepth(drop_path) if drop_path > 0.0 else layers.Activation(\"linear\")\n",
        "\n",
        "      output = layers.Add()([shortcurt, drop_depth(x)])\n",
        "\n",
        "      return output"
      ],
      "metadata": {
        "id": "tR0vb8L44Z0b"
      },
      "execution_count": 13,
      "outputs": []
    },
    {
      "cell_type": "code",
      "source": [
        "def stem(input, dim):\n",
        "\n",
        "  x = layers.Conv2D(filters=dim, kernel_size=4, strides=4)(input)\n",
        "  x = layers.BatchNormalization()(x)\n",
        "\n",
        "  return x"
      ],
      "metadata": {
        "id": "KbBNH0GA4Zx0"
      },
      "execution_count": 14,
      "outputs": []
    },
    {
      "cell_type": "code",
      "source": [
        "def downsampling_layers(input, dim):\n",
        "\n",
        "#   x = layers.LayerNormalization(epsilon=1e-6)(input)\n",
        "  x = layers.BatchNormalization() (input)\n",
        "  x = layers.Conv2D(filters=dim, kernel_size=2, strides=2)(x)\n",
        "\n",
        "  return x"
      ],
      "metadata": {
        "id": "UCZEvX4K4ZvR"
      },
      "execution_count": 15,
      "outputs": []
    },
    {
      "cell_type": "code",
      "source": [
        "def real_model(input_shape=(224, 224, 3), dims=[96, 192, 384, 768], num_classes=2):\n",
        "\n",
        "  input = layers.Input(input_shape)\n",
        "\n",
        "  # stem\n",
        "  x = stem(input, dims[0])\n",
        "\n",
        "  # Stage 1 x3, dim[0] = 64\n",
        "  for _ in range(1):\n",
        "    x = real_block(x, dims[0])\n",
        "\n",
        "  # Downsampling layers + stage 2 x3, dim[1] = 128\n",
        "  x = downsampling_layers(x, dims[1])\n",
        "  for _ in range(3):\n",
        "    x = real_block(x, dims[1])\n",
        "\n",
        "  # Downsampling layers + stage 3 x7, dim[2] = 256\n",
        "  x = downsampling_layers(x, dims[2])\n",
        "  for _ in range(6):\n",
        "    x = real_block(x, dims[2])\n",
        "\n",
        "  # Downsampling layers + stage 4 x3, dim[3] = 512\n",
        "  x = downsampling_layers(x, dims[3])\n",
        "  for _ in range(1):\n",
        "    x = real_block(x, dims[3])\n",
        "    \n",
        "  # Classification head: Global average pool + layer norm + fully connected layer\n",
        "  x = layers.GlobalAvgPool2D()(x)\n",
        "\n",
        "  x = layers.LayerNormalization(epsilon=1e-6)(x)    \n",
        "  x = layers.Dense(units= dims[3], activation='relu') (x)\n",
        "  x = layers.Dropout(0.2) (x)\n",
        "  output = layers.Dense(units=num_classes, activation='softmax')(x)\n",
        "\n",
        "  model = keras.Model(input, output, name='FNet')\n",
        "\n",
        "  return model"
      ],
      "metadata": {
        "id": "EizkXkEH4Zsw"
      },
      "execution_count": 16,
      "outputs": []
    },
    {
      "cell_type": "markdown",
      "source": [
        "**Model Summary**"
      ],
      "metadata": {
        "id": "GpMhEluH5uRm"
      }
    },
    {
      "cell_type": "code",
      "source": [
        "model= real_model()\n",
        "model.summary()"
      ],
      "metadata": {
        "colab": {
          "base_uri": "https://localhost:8080/"
        },
        "id": "NSS7a4J84ZqN",
        "outputId": "dfaa42ef-b725-471b-b7a3-09db9cd979ce"
      },
      "execution_count": 17,
      "outputs": [
        {
          "output_type": "stream",
          "name": "stdout",
          "text": [
            "Model: \"FNet\"\n",
            "__________________________________________________________________________________________________\n",
            " Layer (type)                   Output Shape         Param #     Connected to                     \n",
            "==================================================================================================\n",
            " input_1 (InputLayer)           [(None, 224, 224, 3  0           []                               \n",
            "                                )]                                                                \n",
            "                                                                                                  \n",
            " conv2d (Conv2D)                (None, 56, 56, 96)   4704        ['input_1[0][0]']                \n",
            "                                                                                                  \n",
            " batch_normalization (BatchNorm  (None, 56, 56, 96)  384         ['conv2d[0][0]']                 \n",
            " alization)                                                                                       \n",
            "                                                                                                  \n",
            " conv2d_1 (Conv2D)              (None, 56, 56, 96)   4800        ['batch_normalization[0][0]']    \n",
            "                                                                                                  \n",
            " layer_normalization (LayerNorm  (None, 56, 56, 96)  192         ['conv2d_1[0][0]']               \n",
            " alization)                                                                                       \n",
            "                                                                                                  \n",
            " dense (Dense)                  (None, 56, 56, 384)  37248       ['layer_normalization[0][0]']    \n",
            "                                                                                                  \n",
            " batch_normalization_1 (BatchNo  (None, 56, 56, 384)  1536       ['dense[0][0]']                  \n",
            " rmalization)                                                                                     \n",
            "                                                                                                  \n",
            " re_lu (ReLU)                   (None, 56, 56, 384)  0           ['batch_normalization_1[0][0]']  \n",
            "                                                                                                  \n",
            " dense_1 (Dense)                (None, 56, 56, 96)   36960       ['re_lu[0][0]']                  \n",
            "                                                                                                  \n",
            " activation (Activation)        (None, 56, 56, 96)   0           ['dense_1[0][0]']                \n",
            "                                                                                                  \n",
            " add (Add)                      (None, 56, 56, 96)   0           ['batch_normalization[0][0]',    \n",
            "                                                                  'activation[0][0]']             \n",
            "                                                                                                  \n",
            " batch_normalization_2 (BatchNo  (None, 56, 56, 96)  384         ['add[0][0]']                    \n",
            " rmalization)                                                                                     \n",
            "                                                                                                  \n",
            " conv2d_2 (Conv2D)              (None, 28, 28, 192)  73920       ['batch_normalization_2[0][0]']  \n",
            "                                                                                                  \n",
            " conv2d_3 (Conv2D)              (None, 28, 28, 192)  9600        ['conv2d_2[0][0]']               \n",
            "                                                                                                  \n",
            " layer_normalization_1 (LayerNo  (None, 28, 28, 192)  384        ['conv2d_3[0][0]']               \n",
            " rmalization)                                                                                     \n",
            "                                                                                                  \n",
            " dense_2 (Dense)                (None, 28, 28, 768)  148224      ['layer_normalization_1[0][0]']  \n",
            "                                                                                                  \n",
            " batch_normalization_3 (BatchNo  (None, 28, 28, 768)  3072       ['dense_2[0][0]']                \n",
            " rmalization)                                                                                     \n",
            "                                                                                                  \n",
            " re_lu_1 (ReLU)                 (None, 28, 28, 768)  0           ['batch_normalization_3[0][0]']  \n",
            "                                                                                                  \n",
            " dense_3 (Dense)                (None, 28, 28, 192)  147648      ['re_lu_1[0][0]']                \n",
            "                                                                                                  \n",
            " activation_1 (Activation)      (None, 28, 28, 192)  0           ['dense_3[0][0]']                \n",
            "                                                                                                  \n",
            " add_1 (Add)                    (None, 28, 28, 192)  0           ['conv2d_2[0][0]',               \n",
            "                                                                  'activation_1[0][0]']           \n",
            "                                                                                                  \n",
            " conv2d_4 (Conv2D)              (None, 28, 28, 192)  9600        ['add_1[0][0]']                  \n",
            "                                                                                                  \n",
            " layer_normalization_2 (LayerNo  (None, 28, 28, 192)  384        ['conv2d_4[0][0]']               \n",
            " rmalization)                                                                                     \n",
            "                                                                                                  \n",
            " dense_4 (Dense)                (None, 28, 28, 768)  148224      ['layer_normalization_2[0][0]']  \n",
            "                                                                                                  \n",
            " batch_normalization_4 (BatchNo  (None, 28, 28, 768)  3072       ['dense_4[0][0]']                \n",
            " rmalization)                                                                                     \n",
            "                                                                                                  \n",
            " re_lu_2 (ReLU)                 (None, 28, 28, 768)  0           ['batch_normalization_4[0][0]']  \n",
            "                                                                                                  \n",
            " dense_5 (Dense)                (None, 28, 28, 192)  147648      ['re_lu_2[0][0]']                \n",
            "                                                                                                  \n",
            " activation_2 (Activation)      (None, 28, 28, 192)  0           ['dense_5[0][0]']                \n",
            "                                                                                                  \n",
            " add_2 (Add)                    (None, 28, 28, 192)  0           ['add_1[0][0]',                  \n",
            "                                                                  'activation_2[0][0]']           \n",
            "                                                                                                  \n",
            " conv2d_5 (Conv2D)              (None, 28, 28, 192)  9600        ['add_2[0][0]']                  \n",
            "                                                                                                  \n",
            " layer_normalization_3 (LayerNo  (None, 28, 28, 192)  384        ['conv2d_5[0][0]']               \n",
            " rmalization)                                                                                     \n",
            "                                                                                                  \n",
            " dense_6 (Dense)                (None, 28, 28, 768)  148224      ['layer_normalization_3[0][0]']  \n",
            "                                                                                                  \n",
            " batch_normalization_5 (BatchNo  (None, 28, 28, 768)  3072       ['dense_6[0][0]']                \n",
            " rmalization)                                                                                     \n",
            "                                                                                                  \n",
            " re_lu_3 (ReLU)                 (None, 28, 28, 768)  0           ['batch_normalization_5[0][0]']  \n",
            "                                                                                                  \n",
            " dense_7 (Dense)                (None, 28, 28, 192)  147648      ['re_lu_3[0][0]']                \n",
            "                                                                                                  \n",
            " activation_3 (Activation)      (None, 28, 28, 192)  0           ['dense_7[0][0]']                \n",
            "                                                                                                  \n",
            " add_3 (Add)                    (None, 28, 28, 192)  0           ['add_2[0][0]',                  \n",
            "                                                                  'activation_3[0][0]']           \n",
            "                                                                                                  \n",
            " batch_normalization_6 (BatchNo  (None, 28, 28, 192)  768        ['add_3[0][0]']                  \n",
            " rmalization)                                                                                     \n",
            "                                                                                                  \n",
            " conv2d_6 (Conv2D)              (None, 14, 14, 384)  295296      ['batch_normalization_6[0][0]']  \n",
            "                                                                                                  \n",
            " conv2d_7 (Conv2D)              (None, 14, 14, 384)  19200       ['conv2d_6[0][0]']               \n",
            "                                                                                                  \n",
            " layer_normalization_4 (LayerNo  (None, 14, 14, 384)  768        ['conv2d_7[0][0]']               \n",
            " rmalization)                                                                                     \n",
            "                                                                                                  \n",
            " dense_8 (Dense)                (None, 14, 14, 1536  591360      ['layer_normalization_4[0][0]']  \n",
            "                                )                                                                 \n",
            "                                                                                                  \n",
            " batch_normalization_7 (BatchNo  (None, 14, 14, 1536  6144       ['dense_8[0][0]']                \n",
            " rmalization)                   )                                                                 \n",
            "                                                                                                  \n",
            " re_lu_4 (ReLU)                 (None, 14, 14, 1536  0           ['batch_normalization_7[0][0]']  \n",
            "                                )                                                                 \n",
            "                                                                                                  \n",
            " dense_9 (Dense)                (None, 14, 14, 384)  590208      ['re_lu_4[0][0]']                \n",
            "                                                                                                  \n",
            " activation_4 (Activation)      (None, 14, 14, 384)  0           ['dense_9[0][0]']                \n",
            "                                                                                                  \n",
            " add_4 (Add)                    (None, 14, 14, 384)  0           ['conv2d_6[0][0]',               \n",
            "                                                                  'activation_4[0][0]']           \n",
            "                                                                                                  \n",
            " conv2d_8 (Conv2D)              (None, 14, 14, 384)  19200       ['add_4[0][0]']                  \n",
            "                                                                                                  \n",
            " layer_normalization_5 (LayerNo  (None, 14, 14, 384)  768        ['conv2d_8[0][0]']               \n",
            " rmalization)                                                                                     \n",
            "                                                                                                  \n",
            " dense_10 (Dense)               (None, 14, 14, 1536  591360      ['layer_normalization_5[0][0]']  \n",
            "                                )                                                                 \n",
            "                                                                                                  \n",
            " batch_normalization_8 (BatchNo  (None, 14, 14, 1536  6144       ['dense_10[0][0]']               \n",
            " rmalization)                   )                                                                 \n",
            "                                                                                                  \n",
            " re_lu_5 (ReLU)                 (None, 14, 14, 1536  0           ['batch_normalization_8[0][0]']  \n",
            "                                )                                                                 \n",
            "                                                                                                  \n",
            " dense_11 (Dense)               (None, 14, 14, 384)  590208      ['re_lu_5[0][0]']                \n",
            "                                                                                                  \n",
            " activation_5 (Activation)      (None, 14, 14, 384)  0           ['dense_11[0][0]']               \n",
            "                                                                                                  \n",
            " add_5 (Add)                    (None, 14, 14, 384)  0           ['add_4[0][0]',                  \n",
            "                                                                  'activation_5[0][0]']           \n",
            "                                                                                                  \n",
            " conv2d_9 (Conv2D)              (None, 14, 14, 384)  19200       ['add_5[0][0]']                  \n",
            "                                                                                                  \n",
            " layer_normalization_6 (LayerNo  (None, 14, 14, 384)  768        ['conv2d_9[0][0]']               \n",
            " rmalization)                                                                                     \n",
            "                                                                                                  \n",
            " dense_12 (Dense)               (None, 14, 14, 1536  591360      ['layer_normalization_6[0][0]']  \n",
            "                                )                                                                 \n",
            "                                                                                                  \n",
            " batch_normalization_9 (BatchNo  (None, 14, 14, 1536  6144       ['dense_12[0][0]']               \n",
            " rmalization)                   )                                                                 \n",
            "                                                                                                  \n",
            " re_lu_6 (ReLU)                 (None, 14, 14, 1536  0           ['batch_normalization_9[0][0]']  \n",
            "                                )                                                                 \n",
            "                                                                                                  \n",
            " dense_13 (Dense)               (None, 14, 14, 384)  590208      ['re_lu_6[0][0]']                \n",
            "                                                                                                  \n",
            " activation_6 (Activation)      (None, 14, 14, 384)  0           ['dense_13[0][0]']               \n",
            "                                                                                                  \n",
            " add_6 (Add)                    (None, 14, 14, 384)  0           ['add_5[0][0]',                  \n",
            "                                                                  'activation_6[0][0]']           \n",
            "                                                                                                  \n",
            " conv2d_10 (Conv2D)             (None, 14, 14, 384)  19200       ['add_6[0][0]']                  \n",
            "                                                                                                  \n",
            " layer_normalization_7 (LayerNo  (None, 14, 14, 384)  768        ['conv2d_10[0][0]']              \n",
            " rmalization)                                                                                     \n",
            "                                                                                                  \n",
            " dense_14 (Dense)               (None, 14, 14, 1536  591360      ['layer_normalization_7[0][0]']  \n",
            "                                )                                                                 \n",
            "                                                                                                  \n",
            " batch_normalization_10 (BatchN  (None, 14, 14, 1536  6144       ['dense_14[0][0]']               \n",
            " ormalization)                  )                                                                 \n",
            "                                                                                                  \n",
            " re_lu_7 (ReLU)                 (None, 14, 14, 1536  0           ['batch_normalization_10[0][0]'] \n",
            "                                )                                                                 \n",
            "                                                                                                  \n",
            " dense_15 (Dense)               (None, 14, 14, 384)  590208      ['re_lu_7[0][0]']                \n",
            "                                                                                                  \n",
            " activation_7 (Activation)      (None, 14, 14, 384)  0           ['dense_15[0][0]']               \n",
            "                                                                                                  \n",
            " add_7 (Add)                    (None, 14, 14, 384)  0           ['add_6[0][0]',                  \n",
            "                                                                  'activation_7[0][0]']           \n",
            "                                                                                                  \n",
            " conv2d_11 (Conv2D)             (None, 14, 14, 384)  19200       ['add_7[0][0]']                  \n",
            "                                                                                                  \n",
            " layer_normalization_8 (LayerNo  (None, 14, 14, 384)  768        ['conv2d_11[0][0]']              \n",
            " rmalization)                                                                                     \n",
            "                                                                                                  \n",
            " dense_16 (Dense)               (None, 14, 14, 1536  591360      ['layer_normalization_8[0][0]']  \n",
            "                                )                                                                 \n",
            "                                                                                                  \n",
            " batch_normalization_11 (BatchN  (None, 14, 14, 1536  6144       ['dense_16[0][0]']               \n",
            " ormalization)                  )                                                                 \n",
            "                                                                                                  \n",
            " re_lu_8 (ReLU)                 (None, 14, 14, 1536  0           ['batch_normalization_11[0][0]'] \n",
            "                                )                                                                 \n",
            "                                                                                                  \n",
            " dense_17 (Dense)               (None, 14, 14, 384)  590208      ['re_lu_8[0][0]']                \n",
            "                                                                                                  \n",
            " activation_8 (Activation)      (None, 14, 14, 384)  0           ['dense_17[0][0]']               \n",
            "                                                                                                  \n",
            " add_8 (Add)                    (None, 14, 14, 384)  0           ['add_7[0][0]',                  \n",
            "                                                                  'activation_8[0][0]']           \n",
            "                                                                                                  \n",
            " conv2d_12 (Conv2D)             (None, 14, 14, 384)  19200       ['add_8[0][0]']                  \n",
            "                                                                                                  \n",
            " layer_normalization_9 (LayerNo  (None, 14, 14, 384)  768        ['conv2d_12[0][0]']              \n",
            " rmalization)                                                                                     \n",
            "                                                                                                  \n",
            " dense_18 (Dense)               (None, 14, 14, 1536  591360      ['layer_normalization_9[0][0]']  \n",
            "                                )                                                                 \n",
            "                                                                                                  \n",
            " batch_normalization_12 (BatchN  (None, 14, 14, 1536  6144       ['dense_18[0][0]']               \n",
            " ormalization)                  )                                                                 \n",
            "                                                                                                  \n",
            " re_lu_9 (ReLU)                 (None, 14, 14, 1536  0           ['batch_normalization_12[0][0]'] \n",
            "                                )                                                                 \n",
            "                                                                                                  \n",
            " dense_19 (Dense)               (None, 14, 14, 384)  590208      ['re_lu_9[0][0]']                \n",
            "                                                                                                  \n",
            " activation_9 (Activation)      (None, 14, 14, 384)  0           ['dense_19[0][0]']               \n",
            "                                                                                                  \n",
            " add_9 (Add)                    (None, 14, 14, 384)  0           ['add_8[0][0]',                  \n",
            "                                                                  'activation_9[0][0]']           \n",
            "                                                                                                  \n",
            " batch_normalization_13 (BatchN  (None, 14, 14, 384)  1536       ['add_9[0][0]']                  \n",
            " ormalization)                                                                                    \n",
            "                                                                                                  \n",
            " conv2d_13 (Conv2D)             (None, 7, 7, 768)    1180416     ['batch_normalization_13[0][0]'] \n",
            "                                                                                                  \n",
            " conv2d_14 (Conv2D)             (None, 7, 7, 768)    38400       ['conv2d_13[0][0]']              \n",
            "                                                                                                  \n",
            " layer_normalization_10 (LayerN  (None, 7, 7, 768)   1536        ['conv2d_14[0][0]']              \n",
            " ormalization)                                                                                    \n",
            "                                                                                                  \n",
            " dense_20 (Dense)               (None, 7, 7, 3072)   2362368     ['layer_normalization_10[0][0]'] \n",
            "                                                                                                  \n",
            " batch_normalization_14 (BatchN  (None, 7, 7, 3072)  12288       ['dense_20[0][0]']               \n",
            " ormalization)                                                                                    \n",
            "                                                                                                  \n",
            " re_lu_10 (ReLU)                (None, 7, 7, 3072)   0           ['batch_normalization_14[0][0]'] \n",
            "                                                                                                  \n",
            " dense_21 (Dense)               (None, 7, 7, 768)    2360064     ['re_lu_10[0][0]']               \n",
            "                                                                                                  \n",
            " activation_10 (Activation)     (None, 7, 7, 768)    0           ['dense_21[0][0]']               \n",
            "                                                                                                  \n",
            " add_10 (Add)                   (None, 7, 7, 768)    0           ['conv2d_13[0][0]',              \n",
            "                                                                  'activation_10[0][0]']          \n",
            "                                                                                                  \n",
            " global_average_pooling2d (Glob  (None, 768)         0           ['add_10[0][0]']                 \n",
            " alAveragePooling2D)                                                                              \n",
            "                                                                                                  \n",
            " layer_normalization_11 (LayerN  (None, 768)         1536        ['global_average_pooling2d[0][0]'\n",
            " ormalization)                                                   ]                                \n",
            "                                                                                                  \n",
            " dense_22 (Dense)               (None, 768)          590592      ['layer_normalization_11[0][0]'] \n",
            "                                                                                                  \n",
            " dropout (Dropout)              (None, 768)          0           ['dense_22[0][0]']               \n",
            "                                                                                                  \n",
            " dense_23 (Dense)               (None, 2)            1538        ['dropout[0][0]']                \n",
            "                                                                                                  \n",
            "==================================================================================================\n",
            "Total params: 15,179,330\n",
            "Trainable params: 15,147,842\n",
            "Non-trainable params: 31,488\n",
            "__________________________________________________________________________________________________\n"
          ]
        }
      ]
    },
    {
      "cell_type": "markdown",
      "source": [
        "**Training Model**"
      ],
      "metadata": {
        "id": "K0-0Vqdv5yue"
      }
    },
    {
      "cell_type": "code",
      "source": [
        "epochs = 30\n",
        "batch_size = 32\n",
        "init_lr = 1e-5\n",
        "optimizer = Adam(lr = init_lr, decay = init_lr/epochs)"
      ],
      "metadata": {
        "colab": {
          "base_uri": "https://localhost:8080/"
        },
        "id": "_dRDTjrq4Znj",
        "outputId": "48433547-3a52-430f-9a7c-6f93bf2ff81f"
      },
      "execution_count": 18,
      "outputs": [
        {
          "output_type": "stream",
          "name": "stderr",
          "text": [
            "/usr/local/lib/python3.7/dist-packages/keras/optimizer_v2/adam.py:105: UserWarning: The `lr` argument is deprecated, use `learning_rate` instead.\n",
            "  super(Adam, self).__init__(name, **kwargs)\n"
          ]
        }
      ]
    },
    {
      "cell_type": "code",
      "source": [
        "checkpoint = ModelCheckpoint(filepath='/content/Model_weights/FNet_CASIA.h5',\n",
        "                             save_best_only=True,\n",
        "                             verbose=1,\n",
        "                             mode='min',\n",
        "                             moniter='val_loss'\n",
        "                            )\n",
        "reduce_lr = ReduceLROnPlateau(monitor='val_loss', \n",
        "                              factor=0.2, \n",
        "                              patience=2, \n",
        "                              verbose=1\n",
        "                             )\n",
        "csv_logger = CSVLogger('training.log')\n",
        "\n",
        "early_stopping = EarlyStopping(monitor = 'val_acc',\n",
        "                              min_delta = 0.001,\n",
        "                              patience =3,\n",
        "                              verbose = 0,\n",
        "                              mode = 'auto')\n",
        "\n",
        "callbacks = [checkpoint, reduce_lr, early_stopping, csv_logger]"
      ],
      "metadata": {
        "id": "Y9Y-fNY-4Zlg"
      },
      "execution_count": 19,
      "outputs": []
    },
    {
      "cell_type": "code",
      "source": [
        "model.compile(optimizer = optimizer, loss = 'binary_crossentropy', metrics = ['accuracy'])"
      ],
      "metadata": {
        "id": "B6g_mtSZ4Zhq"
      },
      "execution_count": 20,
      "outputs": []
    },
    {
      "cell_type": "code",
      "source": [
        "%%time\n",
        "hist = model.fit(X_train,\n",
        "                 Y_train,\n",
        "                 batch_size = batch_size,\n",
        "                 epochs = epochs,\n",
        "                 validation_data = (X_val, Y_val),\n",
        "                 verbose = 1)"
      ],
      "metadata": {
        "colab": {
          "base_uri": "https://localhost:8080/"
        },
        "id": "PZzN4iMP4ZfF",
        "outputId": "b2729b62-9e5f-4272-9d1b-551bc7e75a4a"
      },
      "execution_count": 21,
      "outputs": [
        {
          "output_type": "stream",
          "name": "stdout",
          "text": [
            "Epoch 1/30\n",
            "105/105 [==============================] - 48s 366ms/step - loss: 0.5113 - accuracy: 0.7763 - val_loss: 2.1303 - val_accuracy: 0.4886\n",
            "Epoch 2/30\n",
            "105/105 [==============================] - 37s 350ms/step - loss: 0.3521 - accuracy: 0.8616 - val_loss: 1.2292 - val_accuracy: 0.4886\n",
            "Epoch 3/30\n",
            "105/105 [==============================] - 37s 356ms/step - loss: 0.2718 - accuracy: 0.8997 - val_loss: 1.0401 - val_accuracy: 0.4886\n",
            "Epoch 4/30\n",
            "105/105 [==============================] - 38s 360ms/step - loss: 0.2144 - accuracy: 0.9177 - val_loss: 1.0002 - val_accuracy: 0.5378\n",
            "Epoch 5/30\n",
            "105/105 [==============================] - 38s 363ms/step - loss: 0.1237 - accuracy: 0.9601 - val_loss: 0.9858 - val_accuracy: 0.5462\n",
            "Epoch 6/30\n",
            "105/105 [==============================] - 39s 367ms/step - loss: 0.0877 - accuracy: 0.9736 - val_loss: 0.8051 - val_accuracy: 0.7227\n",
            "Epoch 7/30\n",
            "105/105 [==============================] - 39s 370ms/step - loss: 0.0368 - accuracy: 0.9871 - val_loss: 0.3457 - val_accuracy: 0.8764\n",
            "Epoch 8/30\n",
            "105/105 [==============================] - 39s 371ms/step - loss: 0.0414 - accuracy: 0.9859 - val_loss: 0.2887 - val_accuracy: 0.9088\n",
            "Epoch 9/30\n",
            "105/105 [==============================] - 39s 371ms/step - loss: 0.0148 - accuracy: 0.9967 - val_loss: 0.2877 - val_accuracy: 0.9124\n",
            "Epoch 10/30\n",
            "105/105 [==============================] - 39s 371ms/step - loss: 0.0119 - accuracy: 0.9979 - val_loss: 0.3040 - val_accuracy: 0.9088\n",
            "Epoch 11/30\n",
            "105/105 [==============================] - 39s 371ms/step - loss: 0.0106 - accuracy: 0.9970 - val_loss: 0.3743 - val_accuracy: 0.9028\n",
            "Epoch 12/30\n",
            "105/105 [==============================] - 39s 371ms/step - loss: 0.0404 - accuracy: 0.9889 - val_loss: 0.3018 - val_accuracy: 0.9256\n",
            "Epoch 13/30\n",
            "105/105 [==============================] - 39s 372ms/step - loss: 0.0342 - accuracy: 0.9898 - val_loss: 0.2986 - val_accuracy: 0.9220\n",
            "Epoch 14/30\n",
            "105/105 [==============================] - 39s 371ms/step - loss: 0.0078 - accuracy: 0.9988 - val_loss: 0.3160 - val_accuracy: 0.9184\n",
            "Epoch 15/30\n",
            "105/105 [==============================] - 39s 371ms/step - loss: 0.0047 - accuracy: 0.9994 - val_loss: 0.3314 - val_accuracy: 0.9232\n",
            "Epoch 16/30\n",
            "105/105 [==============================] - 39s 373ms/step - loss: 0.0047 - accuracy: 0.9988 - val_loss: 0.3581 - val_accuracy: 0.9208\n",
            "Epoch 17/30\n",
            "105/105 [==============================] - 39s 373ms/step - loss: 0.0030 - accuracy: 0.9994 - val_loss: 0.3862 - val_accuracy: 0.9088\n",
            "Epoch 18/30\n",
            "105/105 [==============================] - 39s 373ms/step - loss: 0.0317 - accuracy: 0.9904 - val_loss: 0.3745 - val_accuracy: 0.9220\n",
            "Epoch 19/30\n",
            "105/105 [==============================] - 39s 373ms/step - loss: 0.0063 - accuracy: 0.9994 - val_loss: 0.3503 - val_accuracy: 0.9208\n",
            "Epoch 20/30\n",
            "105/105 [==============================] - 39s 372ms/step - loss: 0.0066 - accuracy: 0.9991 - val_loss: 0.3965 - val_accuracy: 0.9256\n",
            "Epoch 21/30\n",
            "105/105 [==============================] - 39s 372ms/step - loss: 0.0043 - accuracy: 0.9997 - val_loss: 0.3681 - val_accuracy: 0.9184\n",
            "Epoch 22/30\n",
            "105/105 [==============================] - 39s 371ms/step - loss: 0.0042 - accuracy: 0.9997 - val_loss: 0.3658 - val_accuracy: 0.9184\n",
            "Epoch 23/30\n",
            "105/105 [==============================] - 39s 371ms/step - loss: 0.0038 - accuracy: 0.9997 - val_loss: 0.3619 - val_accuracy: 0.9208\n",
            "Epoch 24/30\n",
            "105/105 [==============================] - 39s 372ms/step - loss: 0.0106 - accuracy: 0.9967 - val_loss: 0.4035 - val_accuracy: 0.8872\n",
            "Epoch 25/30\n",
            "105/105 [==============================] - 39s 372ms/step - loss: 0.0038 - accuracy: 0.9997 - val_loss: 0.3816 - val_accuracy: 0.9208\n",
            "Epoch 26/30\n",
            "105/105 [==============================] - 39s 373ms/step - loss: 0.0371 - accuracy: 0.9901 - val_loss: 0.3833 - val_accuracy: 0.9112\n",
            "Epoch 27/30\n",
            "105/105 [==============================] - 39s 373ms/step - loss: 0.0410 - accuracy: 0.9862 - val_loss: 0.3122 - val_accuracy: 0.9196\n",
            "Epoch 28/30\n",
            "105/105 [==============================] - 39s 373ms/step - loss: 0.0149 - accuracy: 0.9961 - val_loss: 0.3690 - val_accuracy: 0.9184\n",
            "Epoch 29/30\n",
            "105/105 [==============================] - 39s 373ms/step - loss: 0.0053 - accuracy: 0.9991 - val_loss: 0.3250 - val_accuracy: 0.9280\n",
            "Epoch 30/30\n",
            "105/105 [==============================] - 39s 372ms/step - loss: 0.0036 - accuracy: 0.9997 - val_loss: 0.3348 - val_accuracy: 0.9268\n",
            "CPU times: user 15min 14s, sys: 25.5 s, total: 15min 40s\n",
            "Wall time: 19min 35s\n"
          ]
        }
      ]
    },
    {
      "cell_type": "markdown",
      "source": [
        "**Accuracy and Loss**"
      ],
      "metadata": {
        "id": "20-28TOV6KtH"
      }
    },
    {
      "cell_type": "code",
      "source": [
        "plt.figure(figsize=(14,5))\n",
        "plt.subplot(1,2,2)\n",
        "plt.plot(hist.history['accuracy'])\n",
        "plt.plot(hist.history['val_accuracy'])\n",
        "plt.title('Model Accuracy')\n",
        "plt.xlabel('Epochs')\n",
        "plt.ylabel('Accuracy')\n",
        "plt.legend(['train', 'val'])\n",
        "\n",
        "plt.subplot(1,2,1)\n",
        "plt.plot(hist.history['loss'])\n",
        "plt.plot(hist.history['val_loss'])\n",
        "plt.title('model Loss')\n",
        "plt.xlabel('Epochs')\n",
        "plt.ylabel('Loss')\n",
        "plt.legend(['train', 'val'])\n",
        "plt.show()"
      ],
      "metadata": {
        "colab": {
          "base_uri": "https://localhost:8080/",
          "height": 350
        },
        "id": "UFHqGUG0FHq4",
        "outputId": "c521ddbf-a891-408c-e205-615386633b3c"
      },
      "execution_count": 32,
      "outputs": [
        {
          "output_type": "display_data",
          "data": {
            "text/plain": [
              "<Figure size 1008x360 with 2 Axes>"
            ],
            "image/png": "[encoded data removed]"
          },
          "metadata": {
            "needs_background": "light"
          }
        }
      ]
    },
    {
      "cell_type": "markdown",
      "source": [
        "**Confusion Matrix**"
      ],
      "metadata": {
        "id": "KiOHe8If8Kse"
      }
    },
    {
      "cell_type": "code",
      "source": [
        "def plot_confusion_matrix(cm, classes,\n",
        "                          normalize=False,\n",
        "                          title='Confusion matrix',\n",
        "                          cmap=plt.cm.Blues):\n",
        "    \"\"\"\n",
        "    This function prints and plots the confusion matrix.\n",
        "    Normalization can be applied by setting `normalize=True`.\n",
        "    \"\"\"\n",
        "    plt.imshow(cm, interpolation='nearest', cmap=cmap)\n",
        "    plt.title(title)\n",
        "    plt.colorbar()\n",
        "    tick_marks = np.arange(len(classes))\n",
        "    plt.xticks(tick_marks, classes, rotation=45)\n",
        "    plt.yticks(tick_marks, classes)\n",
        "\n",
        "    if normalize:\n",
        "        cm = cm.astype('float') / cm.sum(axis=1)[:, np.newaxis]\n",
        "\n",
        "    thresh = cm.max() / 2.\n",
        "    for i, j in itertools.product(range(cm.shape[0]), range(cm.shape[1])):\n",
        "        plt.text(j, i, cm[i, j],\n",
        "                 horizontalalignment=\"center\",\n",
        "                 color=\"white\" if cm[i, j] > thresh else \"black\")\n",
        "\n",
        "    plt.tight_layout()\n",
        "    plt.ylabel('True label')\n",
        "    plt.xlabel('Predicted label')"
      ],
      "metadata": {
        "id": "Oyh7SObd4ZXy"
      },
      "execution_count": 23,
      "outputs": []
    },
    {
      "cell_type": "code",
      "source": [
        "# Predict the values from the validation dataset\n",
        "Y_pred = model.predict(X_val)\n",
        "# Convert predictions classes to one hot vectors \n",
        "Y_pred_classes = np.argmax(Y_pred,axis = 1) \n",
        "# Convert validation observations to one hot vectors\n",
        "Y_true = np.argmax(Y_val,axis = 1) \n",
        "# compute the confusion matrix\n",
        "confusion_mtx = confusion_matrix(Y_true, Y_pred_classes) \n",
        "# plot the confusion matrix\n",
        "plot_confusion_matrix(confusion_mtx, classes = range(2))"
      ],
      "metadata": {
        "colab": {
          "base_uri": "https://localhost:8080/",
          "height": 311
        },
        "id": "0rEHQrg44ZVs",
        "outputId": "7192f3a9-f021-4050-bb22-1dfa3c9e97f9"
      },
      "execution_count": 24,
      "outputs": [
        {
          "output_type": "display_data",
          "data": {
            "text/plain": [
              "<Figure size 432x288 with 2 Axes>"
            ],
            "image/png": "[encoded data removed]"
          },
          "metadata": {
            "needs_background": "light"
          }
        }
      ]
    },
    {
      "cell_type": "markdown",
      "source": [
        "**Test Accuracy**"
      ],
      "metadata": {
        "id": "yt-NWj-B8P_Q"
      }
    },
    {
      "cell_type": "code",
      "source": [
        "class_names = ['fake', 'real']"
      ],
      "metadata": {
        "id": "ppwmohKK8NWV"
      },
      "execution_count": 25,
      "outputs": []
    },
    {
      "cell_type": "code",
      "source": [
        "fake_image = os.listdir('/content/casia-dataset/CASIA2/Tp/')\n",
        "correct = 0\n",
        "total = 0\n",
        "for file_name in fake_image:\n",
        "    if file_name.endswith('jpg') or filename.endswith('png'):\n",
        "        fake_image_path = os.path.join('/content/casia-dataset/CASIA2/Tp/', file_name)\n",
        "        image = prepare_image(fake_image_path)\n",
        "        image = image.reshape(-1, 224, 224, 3)\n",
        "        y_pred = model.predict(image)\n",
        "        y_pred_class = np.argmax(y_pred, axis = 1)[0]\n",
        "        total += 1\n",
        "        if y_pred_class == 0:\n",
        "            correct += 1"
      ],
      "metadata": {
        "id": "moKEYQj68TIj"
      },
      "execution_count": 26,
      "outputs": []
    },
    {
      "cell_type": "code",
      "source": [
        "print(f'Total: {total}, Correct: {correct}, Acc: {correct / total * 100.0}')"
      ],
      "metadata": {
        "colab": {
          "base_uri": "https://localhost:8080/"
        },
        "id": "IKKyBCht8TCF",
        "outputId": "8022b86a-8b21-4fba-c872-f74eb8531196"
      },
      "execution_count": 27,
      "outputs": [
        {
          "output_type": "stream",
          "name": "stdout",
          "text": [
            "Total: 2064, Correct: 2042, Acc: 98.93410852713178\n"
          ]
        }
      ]
    },
    {
      "cell_type": "code",
      "source": [
        "real_image = os.listdir('/content/casia-dataset/CASIA2/Au/')\n",
        "correct_r = 0\n",
        "total_r = 0\n",
        "for file_name in real_image:\n",
        "    if file_name.endswith('jpg') or filename.endswith('png'):\n",
        "        real_image_path = os.path.join('/content/casia-dataset/CASIA2/Au/', file_name)\n",
        "        image = prepare_image(real_image_path)\n",
        "        image = image.reshape(-1, 224, 224, 3)\n",
        "        y_pred = model.predict(image)\n",
        "        y_pred_class = np.argmax(y_pred, axis = 1)[0]\n",
        "        total_r += 1\n",
        "        if y_pred_class == 1:\n",
        "            correct_r += 1"
      ],
      "metadata": {
        "colab": {
          "base_uri": "https://localhost:8080/"
        },
        "id": "ss7_X4ai8S_A",
        "outputId": "b2be877a-a6dc-4aaa-98d6-728a073330a1"
      },
      "execution_count": 28,
      "outputs": [
        {
          "output_type": "stream",
          "name": "stderr",
          "text": [
            "/usr/local/lib/python3.7/dist-packages/PIL/TiffImagePlugin.py:770: UserWarning: Possibly corrupt EXIF data.  Expecting to read 8 bytes but only got 2. Skipping tag 41487\n",
            "  \" Skipping tag %s\" % (size, len(data), tag)\n",
            "/usr/local/lib/python3.7/dist-packages/PIL/TiffImagePlugin.py:770: UserWarning: Possibly corrupt EXIF data.  Expecting to read 8 bytes but only got 0. Skipping tag 41988\n",
            "  \" Skipping tag %s\" % (size, len(data), tag)\n"
          ]
        }
      ]
    },
    {
      "cell_type": "code",
      "source": [
        "correct += correct_r\n",
        "total += total_r\n",
        "print(f'Total: {total_r}, Correct: {correct_r}, Acc: {correct_r / total_r * 100.0}')\n",
        "print(f'Total: {total}, Correct: {correct}, Acc: {correct / total * 100.0}')"
      ],
      "metadata": {
        "colab": {
          "base_uri": "https://localhost:8080/"
        },
        "id": "6mPApksI8cuh",
        "outputId": "3943d8fb-d336-4ffe-bb96-a868f4c4cea9"
      },
      "execution_count": 29,
      "outputs": [
        {
          "output_type": "stream",
          "name": "stdout",
          "text": [
            "Total: 7354, Correct: 6737, Acc: 91.61000815882512\n",
            "Total: 9418, Correct: 8779, Acc: 93.21511998301125\n"
          ]
        }
      ]
    }
  ]
}
